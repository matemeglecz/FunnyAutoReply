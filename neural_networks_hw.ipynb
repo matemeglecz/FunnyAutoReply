{
  "nbformat": 4,
  "nbformat_minor": 0,
  "metadata": {
    "colab": {
      "name": "neural-networks-hw.ipynb",
      "provenance": [],
      "authorship_tag": "ABX9TyMghEDiA5DNvERqhk5K9kEF"
    },
    "kernelspec": {
      "name": "python3",
      "display_name": "Python 3"
    },
    "language_info": {
      "name": "python"
    }
  },
  "cells": [
    {
      "cell_type": "code",
      "execution_count": 1,
      "metadata": {
        "colab": {
          "base_uri": "https://localhost:8080/"
        },
        "id": "LswNlPo6GRdu",
        "outputId": "c9100c94-eb45-4e8e-a3ff-94eee53eb520"
      },
      "outputs": [
        {
          "output_type": "stream",
          "name": "stdout",
          "text": [
            "Downloading data from https://www.cs.toronto.edu/~kriz/cifar-10-python.tar.gz\n",
            "170500096/170498071 [==============================] - 2s 0us/step\n",
            "170508288/170498071 [==============================] - 2s 0us/step\n"
          ]
        }
      ],
      "source": [
        "import numpy as np\n",
        "\n",
        "from keras.datasets import cifar10\n",
        "from keras.utils.np_utils import to_categorical   \n",
        "\n",
        "\n",
        "(X_train, y_train), (X_test, y_test) = cifar10.load_data()"
      ]
    }
  ]
}